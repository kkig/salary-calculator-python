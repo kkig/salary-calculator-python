# salary calculator
print('Please enter your salary:')
inputString = input()
inputValue =int(inputString)

if inputValue <= 11000:
  netValue = inputValue
elif inputValue <= 25000:
  incomeTax = (inputValue - 11000) * 0.365
  netValue = inputValue - incomeTax
elif inputValue <= 60000:
  incomeTax = (inputValue - 25000) * 0.4321 + 5110
  netValue = inputValue - incomeTax
else:
  incomeTax = (inputValue - 60000) * 0.5 + 20235
  netValue = inputValue - incomeTax

round(netValue, 2)
print('Your netValue is ' + str(netValue))
