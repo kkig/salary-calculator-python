{
  "nbformat": 4,
  "nbformat_minor": 0,
  "metadata": {
    "colab": {
      "name": "salary.ipynb",
      "version": "0.3.2",
      "provenance": [],
      "collapsed_sections": []
    },
    "kernelspec": {
      "name": "python3",
      "display_name": "Python 3"
    }
  },
  "cells": [
    {
      "cell_type": "code",
      "metadata": {
        "id": "qxpV2IckdO8A",
        "colab_type": "code",
        "colab": {}
      },
      "source": [
        "# salary calculator\n",
        "print('Please enter your salary:')\n",
        "inputString = input()\n",
        "inputValue =int(inputString)\n",
        "\n",
        "if inputValue <= 11000:\n",
        "  netValue = inputValue\n",
        "elif inputValue <= 25000:\n",
        "  incomeTax = (inputValue - 11000) * 0.365\n",
        "  netValue = inputValue - incomeTax\n",
        "elif inputValue <= 60000:\n",
        "  incomeTax = (inputValue - 25000) * 0.4321 + 5110\n",
        "  netValue = inputValue - incomeTax\n",
        "else:\n",
        "  incomeTax = (inputValue - 60000) * 0.5 + 20235\n",
        "  netValue = inputValue - incomeTax\n",
        "\n",
        "print('Your netValue is ' + str(netValue))"
      ],
      "execution_count": 0,
      "outputs": []
    }
  ]
}